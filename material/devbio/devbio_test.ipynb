{
 "cells": [
  {
   "cell_type": "code",
   "execution_count": 3,
   "id": "a56a1451",
   "metadata": {
    "lines_to_next_cell": 2
   },
   "outputs": [],
   "source": [
    "from skimage.io import imread\n",
    "import pyclesperanto_prototype as cle  # version 0.24.4"
   ]
  },
  {
   "cell_type": "markdown",
   "id": "6a034ce6",
   "metadata": {},
   "source": [
    "## Loading 'nuclei'\n",
    "Please enter code for loading 'nuclei' here."
   ]
  },
  {
   "cell_type": "code",
   "execution_count": null,
   "id": "f4897bf9",
   "metadata": {},
   "outputs": [],
   "source": [
    "# filename = 'path/to/image.tif'\n",
    "# image0_n = imread(filename)\n",
    "image0_n = viewer.layers['nuclei'].data"
   ]
  },
  {
   "cell_type": "markdown",
   "id": "82a197c5",
   "metadata": {},
   "source": [
    "## gaussian blur"
   ]
  },
  {
   "cell_type": "code",
   "execution_count": null,
   "id": "447e47eb",
   "metadata": {},
   "outputs": [],
   "source": [
    "image2_gb = cle.gaussian_blur(image0_n, None, 1.0, 1.0, 0.0)\n",
    "image2_gb"
   ]
  },
  {
   "cell_type": "markdown",
   "id": "e9390e99",
   "metadata": {},
   "source": [
    "## voronoi otsu labeling"
   ]
  },
  {
   "cell_type": "code",
   "execution_count": null,
   "id": "5904a57e",
   "metadata": {},
   "outputs": [],
   "source": [
    "image3_vol = cle.voronoi_otsu_labeling(image2_gb, None, 9.0, 2.0)\n",
    "image3_vol"
   ]
  },
  {
   "cell_type": "markdown",
   "id": "b9d1c98f",
   "metadata": {},
   "source": [
    "## closing labels"
   ]
  },
  {
   "cell_type": "code",
   "execution_count": null,
   "id": "51b2e258",
   "metadata": {},
   "outputs": [],
   "source": [
    "image4_cl = cle.closing_labels(image3_vol, None, 3.0)\n",
    "image4_cl"
   ]
  },
  {
   "cell_type": "markdown",
   "id": "ae8253ea",
   "metadata": {},
   "source": [
    "## exclude labels on edges"
   ]
  },
  {
   "cell_type": "code",
   "execution_count": null,
   "id": "dc523e4a",
   "metadata": {},
   "outputs": [],
   "source": [
    "image5_eloe = cle.exclude_labels_on_edges(\n",
    "    image1_sw, None, True, True, False, True, True, False)\n",
    "image5_eloe"
   ]
  }
 ],
 "metadata": {
  "jupytext": {
   "cell_metadata_filter": "-all",
   "main_language": "python",
   "notebook_metadata_filter": "-all"
  },
  "kernelspec": {
   "display_name": "Python 3 (ipykernel)",
   "language": "python",
   "name": "python3"
  },
  "language_info": {
   "codemirror_mode": {
    "name": "ipython",
    "version": 3
   },
   "file_extension": ".py",
   "mimetype": "text/x-python",
   "name": "python",
   "nbconvert_exporter": "python",
   "pygments_lexer": "ipython3",
   "version": "3.10.4"
  }
 },
 "nbformat": 4,
 "nbformat_minor": 5
}
